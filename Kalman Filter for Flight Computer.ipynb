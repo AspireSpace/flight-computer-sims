{
 "cells": [
  {
   "cell_type": "markdown",
   "metadata": {},
   "source": [
    "# Sensor Fusion\n",
    "\n",
    "> \"...just a cheap tactic to make noisy sensors more accurate!\"  \n",
    "&nbsp;&nbsp;&nbsp;&nbsp;&nbsp;*-- Data Science Jasper, probably*\n",
    "\n",
    "Sensor fusion is a general term for combining the outputs of multiple sensors (or a single sensor and a system model) in order to obtain a result with reduced uncertainty. An illustrative example: imagine a one-dimensional rocket problem, where the rocket carries an accelerometer and an altimeter. By integrating the altimeter output twice, we could obtain an estimate of the rocket's altitude. However, accelerometers are noisy: modelling the noise as a random walk gives us a velocity error proportional to $t^\\frac{1}{2}$, and hence a position error proportional to $t^\\frac{3}{2}$ - fine for short durations, but increasingly bad for longer flights and noisier accelerometers. \n",
    "\n",
    "The altimeter, meanwhile, will give us the actual altitude, but with more noise (and some errors, including the possibility of significant pressure changes when the rocket goes transonic/supersonic). It should be relatively intuitive to see that combining these two results in some way - so that the short-term precision of the accelerometer partly cancels out the altimeter error, and the accuracy of the altimeter cancels out the long-term drift of the accelerometer - should allow us to make a more reliable measurement than is possible from either alone. (See [this image](http://kaffee.50webs.com/Science/images/Accuracy-vs-precision1.jpg) for a visual refresher on the difference between accuracy and precision.)\n",
    "\n",
    "## The Kalman filter\n",
    "\n",
    "The Kalman filter is one of the oldest methods of sensor fusion, allowing the outputs of multiple sensors to be used alongside a system model for state estimation. It operates in discrete time - that is, when each new sensor sample becomes available, the filter does the following:\n",
    "\n",
    "* Starting with the previous state estimate (and the previous covariance - a measure of how uncertain we are about that estimate), apply the system model to get a prediction of the new state and the new covariance.\n",
    "* Calculate the sensor readings we would expect to see if that were the new state.\n",
    "* Using the error (difference between the expected sensor readings and actual sensor readings) and some assumptions about the sensor noise and system noise, calculate the \"best compromise\" estimate of the current state.\n",
    "\n",
    "Unfortunately I am bad at explaining things, and would be surprised if anyone else ever read this, so this notebook will now descend into maths and jargon. If you're reading this and want to properly understand how a Kalman filter works I recommend looking elsewhere. Try [here](http://www.bzarg.com/p/how-a-kalman-filter-works-in-pictures/) (a little knowledge of matrix algebra helps)."
   ]
  }
 ],
 "metadata": {
  "kernelspec": {
   "display_name": "Python 3",
   "language": "python",
   "name": "python3"
  },
  "language_info": {
   "codemirror_mode": {
    "name": "ipython",
    "version": 3
   },
   "file_extension": ".py",
   "mimetype": "text/x-python",
   "name": "python",
   "nbconvert_exporter": "python",
   "pygments_lexer": "ipython3",
   "version": "3.5.1"
  }
 },
 "nbformat": 4,
 "nbformat_minor": 0
}
